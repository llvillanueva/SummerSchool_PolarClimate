{
 "cells": [
  {
   "cell_type": "code",
   "execution_count": 6,
   "id": "e695ac90-4f02-4ea0-853c-4db09fe40d69",
   "metadata": {},
   "outputs": [
    {
     "name": "stderr",
     "output_type": "stream",
     "text": [
      "/home/netapp-clima/users/ggiulian/m20/lib/python3.10/site-packages/iris/fileformats/_nc_load_rules/helpers.py:1178: _WarnComboDefaultingCfLoad: Failed to create 'time' dimension coordinate: The 'time' DimCoord points array must be strictly monotonic.\n",
      "Gracefully creating 'time' auxiliary coordinate instead.\n",
      "  warnings.warn(\n"
     ]
    },
    {
     "ename": "ValueError",
     "evalue": "Unable to convert from 'Unit('kg/m2/s')' to 'Unit('mm/day')'.",
     "output_type": "error",
     "traceback": [
      "\u001b[0;31m---------------------------------------------------------------------------\u001b[0m",
      "\u001b[0;31mValueError\u001b[0m                                Traceback (most recent call last)",
      "Cell \u001b[0;32mIn[6], line 34\u001b[0m\n\u001b[1;32m     31\u001b[0m pr_datasets \u001b[38;5;241m=\u001b[39m {key: iris\u001b[38;5;241m.\u001b[39mload_cube(filepath) \u001b[38;5;28;01mfor\u001b[39;00m key, filepath \u001b[38;5;129;01min\u001b[39;00m pr_files\u001b[38;5;241m.\u001b[39mitems()}\n\u001b[1;32m     33\u001b[0m \u001b[38;5;66;03m# Calculate transports for each scenario\u001b[39;00m\n\u001b[0;32m---> 34\u001b[0m transports \u001b[38;5;241m=\u001b[39m {key: calculate_transport(pr_datasets[key], qflx_datasets[key]) \u001b[38;5;28;01mfor\u001b[39;00m key \u001b[38;5;129;01min\u001b[39;00m scenarios\u001b[38;5;241m.\u001b[39mkeys()}\n",
      "Cell \u001b[0;32mIn[6], line 34\u001b[0m, in \u001b[0;36m<dictcomp>\u001b[0;34m(.0)\u001b[0m\n\u001b[1;32m     31\u001b[0m pr_datasets \u001b[38;5;241m=\u001b[39m {key: iris\u001b[38;5;241m.\u001b[39mload_cube(filepath) \u001b[38;5;28;01mfor\u001b[39;00m key, filepath \u001b[38;5;129;01min\u001b[39;00m pr_files\u001b[38;5;241m.\u001b[39mitems()}\n\u001b[1;32m     33\u001b[0m \u001b[38;5;66;03m# Calculate transports for each scenario\u001b[39;00m\n\u001b[0;32m---> 34\u001b[0m transports \u001b[38;5;241m=\u001b[39m {key: \u001b[43mcalculate_transport\u001b[49m\u001b[43m(\u001b[49m\u001b[43mpr_datasets\u001b[49m\u001b[43m[\u001b[49m\u001b[43mkey\u001b[49m\u001b[43m]\u001b[49m\u001b[43m,\u001b[49m\u001b[43m \u001b[49m\u001b[43mqflx_datasets\u001b[49m\u001b[43m[\u001b[49m\u001b[43mkey\u001b[49m\u001b[43m]\u001b[49m\u001b[43m)\u001b[49m \u001b[38;5;28;01mfor\u001b[39;00m key \u001b[38;5;129;01min\u001b[39;00m scenarios\u001b[38;5;241m.\u001b[39mkeys()}\n",
      "Cell \u001b[0;32mIn[6], line 10\u001b[0m, in \u001b[0;36mcalculate_transport\u001b[0;34m(pr, qflx)\u001b[0m\n\u001b[1;32m      7\u001b[0m pr\u001b[38;5;241m.\u001b[39mconvert_units(\u001b[38;5;124m'\u001b[39m\u001b[38;5;124mmm/day\u001b[39m\u001b[38;5;124m'\u001b[39m)\n\u001b[1;32m      9\u001b[0m \u001b[38;5;66;03m# Convert qflx units from kg m^-2 s^-1 to mm/day\u001b[39;00m\n\u001b[0;32m---> 10\u001b[0m \u001b[43mqflx\u001b[49m\u001b[38;5;241;43m.\u001b[39;49m\u001b[43mconvert_units\u001b[49m\u001b[43m(\u001b[49m\u001b[38;5;124;43m'\u001b[39;49m\u001b[38;5;124;43mmm/day\u001b[39;49m\u001b[38;5;124;43m'\u001b[39;49m\u001b[43m)\u001b[49m\n\u001b[1;32m     12\u001b[0m \u001b[38;5;28;01mreturn\u001b[39;00m pr \u001b[38;5;241m-\u001b[39m qflx\n",
      "File \u001b[0;32m/home/netapp-clima/users/ggiulian/m20/lib/python3.10/site-packages/iris/cube.py:1458\u001b[0m, in \u001b[0;36mCube.convert_units\u001b[0;34m(self, unit)\u001b[0m\n\u001b[1;32m   1454\u001b[0m     new_unit \u001b[38;5;241m=\u001b[39m unit\n\u001b[1;32m   1456\u001b[0m     pointwise_convert \u001b[38;5;241m=\u001b[39m partial(old_unit\u001b[38;5;241m.\u001b[39mconvert, other\u001b[38;5;241m=\u001b[39mnew_unit)\n\u001b[0;32m-> 1458\u001b[0m     new_data \u001b[38;5;241m=\u001b[39m \u001b[43m_lazy\u001b[49m\u001b[38;5;241;43m.\u001b[39;49m\u001b[43mlazy_elementwise\u001b[49m\u001b[43m(\u001b[49m\u001b[38;5;28;43mself\u001b[39;49m\u001b[38;5;241;43m.\u001b[39;49m\u001b[43mlazy_data\u001b[49m\u001b[43m(\u001b[49m\u001b[43m)\u001b[49m\u001b[43m,\u001b[49m\u001b[43m \u001b[49m\u001b[43mpointwise_convert\u001b[49m\u001b[43m)\u001b[49m\n\u001b[1;32m   1459\u001b[0m \u001b[38;5;28;01melse\u001b[39;00m:\n\u001b[1;32m   1460\u001b[0m     new_data \u001b[38;5;241m=\u001b[39m \u001b[38;5;28mself\u001b[39m\u001b[38;5;241m.\u001b[39munits\u001b[38;5;241m.\u001b[39mconvert(\u001b[38;5;28mself\u001b[39m\u001b[38;5;241m.\u001b[39mdata, unit)\n",
      "File \u001b[0;32m/home/netapp-clima/users/ggiulian/m20/lib/python3.10/site-packages/iris/_lazy_data.py:448\u001b[0m, in \u001b[0;36mlazy_elementwise\u001b[0;34m(lazy_array, elementwise_op)\u001b[0m\n\u001b[1;32m    420\u001b[0m \u001b[38;5;250m\u001b[39m\u001b[38;5;124;03m\"\"\"Apply a (numpy-style) elementwise array operation to a lazy array.\u001b[39;00m\n\u001b[1;32m    421\u001b[0m \n\u001b[1;32m    422\u001b[0m \u001b[38;5;124;03mElementwise means that it performs a independent calculation at each point\u001b[39;00m\n\u001b[0;32m   (...)\u001b[0m\n\u001b[1;32m    439\u001b[0m \n\u001b[1;32m    440\u001b[0m \u001b[38;5;124;03m\"\"\"\u001b[39;00m\n\u001b[1;32m    441\u001b[0m \u001b[38;5;66;03m# This is just a wrapper to provide an Iris-specific abstraction for a\u001b[39;00m\n\u001b[1;32m    442\u001b[0m \u001b[38;5;66;03m# lazy operation in Dask (map_blocks).\u001b[39;00m\n\u001b[1;32m    443\u001b[0m \n\u001b[0;32m   (...)\u001b[0m\n\u001b[1;32m    446\u001b[0m \u001b[38;5;66;03m# call may cast to float, or not, depending on unit equality : Thus, it's\u001b[39;00m\n\u001b[1;32m    447\u001b[0m \u001b[38;5;66;03m# much safer to get udunits to decide that for us.\u001b[39;00m\n\u001b[0;32m--> 448\u001b[0m dtype \u001b[38;5;241m=\u001b[39m \u001b[43melementwise_op\u001b[49m\u001b[43m(\u001b[49m\u001b[43mnp\u001b[49m\u001b[38;5;241;43m.\u001b[39;49m\u001b[43mzeros\u001b[49m\u001b[43m(\u001b[49m\u001b[38;5;241;43m1\u001b[39;49m\u001b[43m,\u001b[49m\u001b[43m \u001b[49m\u001b[43mlazy_array\u001b[49m\u001b[38;5;241;43m.\u001b[39;49m\u001b[43mdtype\u001b[49m\u001b[43m)\u001b[49m\u001b[43m)\u001b[49m\u001b[38;5;241m.\u001b[39mdtype\n\u001b[1;32m    450\u001b[0m \u001b[38;5;28;01mreturn\u001b[39;00m da\u001b[38;5;241m.\u001b[39mmap_blocks(elementwise_op, lazy_array, dtype\u001b[38;5;241m=\u001b[39mdtype)\n",
      "File \u001b[0;32m/home/netapp-clima/users/ggiulian/m20/lib/python3.10/site-packages/cf_units/__init__.py:1918\u001b[0m, in \u001b[0;36mUnit.convert\u001b[0;34m(self, value, other, ctype, inplace)\u001b[0m\n\u001b[1;32m   1916\u001b[0m     \u001b[38;5;28;01mreturn\u001b[39;00m result\n\u001b[1;32m   1917\u001b[0m \u001b[38;5;28;01melse\u001b[39;00m:\n\u001b[0;32m-> 1918\u001b[0m     \u001b[38;5;28;01mraise\u001b[39;00m \u001b[38;5;167;01mValueError\u001b[39;00m(\n\u001b[1;32m   1919\u001b[0m         \u001b[38;5;124m\"\u001b[39m\u001b[38;5;124mUnable to convert from \u001b[39m\u001b[38;5;124m'\u001b[39m\u001b[38;5;132;01m%r\u001b[39;00m\u001b[38;5;124m'\u001b[39m\u001b[38;5;124m to \u001b[39m\u001b[38;5;124m'\u001b[39m\u001b[38;5;132;01m%r\u001b[39;00m\u001b[38;5;124m'\u001b[39m\u001b[38;5;124m.\u001b[39m\u001b[38;5;124m\"\u001b[39m \u001b[38;5;241m%\u001b[39m (\u001b[38;5;28mself\u001b[39m, other)\n\u001b[1;32m   1920\u001b[0m     )\n",
      "\u001b[0;31mValueError\u001b[0m: Unable to convert from 'Unit('kg/m2/s')' to 'Unit('mm/day')'."
     ]
    }
   ],
   "source": [
    "import iris\n",
    "import cf_units\n",
    "\n",
    "# Define a function to calculate transport (pr* - qflx*)\n",
    "def calculate_transport(pr, qflx):\n",
    "    # Convert pr units from kg m^-2 s^-1 to mm/day\n",
    "    pr.convert_units('mm/day')\n",
    "    \n",
    "    # Convert qflx units from kg m^-2 s^-1 to mm/day\n",
    "    qflx.convert_units('mm/day')\n",
    "    \n",
    "    return pr - qflx\n",
    "\n",
    "# Define dictionaries for the scenarios\n",
    "scenarios = {\n",
    "    'expt1': 'pa-pdSIC-ext',\n",
    "    'expt2': 'pa-futArcSIC-ext',\n",
    "    'expt3': 'pa-futAntSIC-ext',\n",
    "    'expt4': 'pa-pdSIC-2XCO2-ext',\n",
    "    'expt5': 'pa-futSIC-2XCO2-ext'\n",
    "}\n",
    "\n",
    "# Create file paths for qflx and pr datasets\n",
    "qflx_files = {key: f\"/scratch/lvillanu/data/{value}_qflx_mean_each_month.nc\" for key, value in scenarios.items()}\n",
    "pr_files = {key: f\"/scratch/lvillanu/data/{value}_pr_mean_each_month.nc\" for key, value in scenarios.items()}\n",
    "\n",
    "# Load qflx datasets\n",
    "qflx_datasets = {key: iris.load_cube(filepath) for key, filepath in qflx_files.items()}\n",
    "\n",
    "# Load pr datasets\n",
    "pr_datasets = {key: iris.load_cube(filepath) for key, filepath in pr_files.items()}\n",
    "\n",
    "# Calculate transports for each scenario\n",
    "transports = {key: calculate_transport(pr_datasets[key], qflx_datasets[key]) for key in scenarios.keys()}\n"
   ]
  },
  {
   "cell_type": "code",
   "execution_count": null,
   "id": "210b0f19-94a0-427d-b5df-cd951c3d64dc",
   "metadata": {},
   "outputs": [],
   "source": []
  }
 ],
 "metadata": {
  "kernelspec": {
   "display_name": "Python 3 (ipykernel)",
   "language": "python",
   "name": "python3"
  },
  "language_info": {
   "codemirror_mode": {
    "name": "ipython",
    "version": 3
   },
   "file_extension": ".py",
   "mimetype": "text/x-python",
   "name": "python",
   "nbconvert_exporter": "python",
   "pygments_lexer": "ipython3",
   "version": "3.10.8"
  }
 },
 "nbformat": 4,
 "nbformat_minor": 5
}
