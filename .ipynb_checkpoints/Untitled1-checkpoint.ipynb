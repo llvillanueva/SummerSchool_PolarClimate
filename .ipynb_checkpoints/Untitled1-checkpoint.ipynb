{
 "cells": [
  {
   "cell_type": "code",
   "execution_count": 1,
   "id": "e59bfe88-f89c-40ec-9563-b3cb6ad9a178",
   "metadata": {},
   "outputs": [],
   "source": [
    "import xarray as xr\n",
    "import numpy as np\n",
    "import matplotlib.pyplot as plt\n",
    "import cartopy.crs as ccrs\n",
    "import cartopy.feature as cfeature\n",
    "\n",
    "from matplotlib.colors import TwoSlopeNorm\n",
    "norm = TwoSlopeNorm(vcenter = 0)"
   ]
  },
  {
   "cell_type": "code",
   "execution_count": null,
   "id": "a008221f-dfdb-4964-bd50-a5d688f6b21b",
   "metadata": {},
   "outputs": [],
   "source": [
    "def plot_monthly_param(data, parameter, cmap ='OrRd', ylabel, title):    \n",
    "    # Group by month and calculate the mean for each month\n",
    "    qflx2_ = qflx2[parameter].groupby('time.month').mean(dim='time')\n",
    "    \n",
    "    # Plot the results using Cartopy\n",
    "    fig, axes = plt.subplots(nrows=4, ncols=3, figsize=(15, 15), subplot_kw={'projection': ccrs.NorthPolarStereo()})\n",
    "    axes = axes.flatten()\n",
    "\n",
    "    for month in range(1, 13):\n",
    "        ax = axes[month-1]\n",
    "        ax.set_extent([-180, 180, 60, 90], crs=ccrs.PlateCarree())\n",
    "        ax.add_feature(cfeature.COASTLINE)\n",
    "        ax.add_feature(cfeature.BORDERS, linestyle=':')\n",
    "        \n",
    "        # Plot with color\n",
    "        flux_data = qflx2_.sel(month=month)\n",
    "        c = ax.pcolormesh(flux_data.lon, flux_data.lat, flux_data, transform=ccrs.PlateCarree(), cmap=cmap)\n",
    "        \n",
    "        ax.set_title(f'Month: {month}')\n",
    "\n",
    "    # Add colorbar\n",
    "    cbar = fig.colorbar(c, ax=axes, fraction=0.02, pad=0.1)\n",
    "    cbar.set_label(ylabel)\n",
    "\n",
    "    fig.suptitle(title, y=1.02)\n",
    "    plt.tight_layout()\n",
    "    plt.show()"
   ]
  }
 ],
 "metadata": {
  "kernelspec": {
   "display_name": "Python 3 (ipykernel)",
   "language": "python",
   "name": "python3"
  },
  "language_info": {
   "codemirror_mode": {
    "name": "ipython",
    "version": 3
   },
   "file_extension": ".py",
   "mimetype": "text/x-python",
   "name": "python",
   "nbconvert_exporter": "python",
   "pygments_lexer": "ipython3",
   "version": "3.10.8"
  }
 },
 "nbformat": 4,
 "nbformat_minor": 5
}
